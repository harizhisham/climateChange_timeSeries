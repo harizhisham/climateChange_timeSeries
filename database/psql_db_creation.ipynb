{
 "cells": [
  {
   "cell_type": "code",
   "execution_count": 2,
   "metadata": {},
   "outputs": [],
   "source": [
    "import pandas as pd\n",
    "\n",
    "'''\n",
    "import numpy as np\n",
    "import matplotlib.pyplot as plt\n",
    "%matplotlib inline\n",
    "'''\n",
    "\n",
    "import time\n",
    "import os\n",
    "import psycopg2"
   ]
  },
  {
   "cell_type": "code",
   "execution_count": 3,
   "metadata": {},
   "outputs": [
    {
     "ename": "OperationalError",
     "evalue": "could not translate host name \"sanjose\" to address: Unknown host\n",
     "output_type": "error",
     "traceback": [
      "\u001b[1;31m---------------------------------------------------------------------------\u001b[0m",
      "\u001b[1;31mOperationalError\u001b[0m                          Traceback (most recent call last)",
      "\u001b[1;32m<ipython-input-3-435f677bfea3>\u001b[0m in \u001b[0;36m<module>\u001b[1;34m\u001b[0m\n\u001b[0;32m      7\u001b[0m conn = psycopg2.connect(host=\"sanjose\",\n\u001b[0;32m      8\u001b[0m                         \u001b[0mdatabase\u001b[0m\u001b[1;33m=\u001b[0m\u001b[1;34m\"atlas\"\u001b[0m\u001b[1;33m,\u001b[0m\u001b[1;33m\u001b[0m\u001b[1;33m\u001b[0m\u001b[0m\n\u001b[1;32m----> 9\u001b[1;33m                         \u001b[0muser\u001b[0m\u001b[1;33m=\u001b[0m\u001b[1;34m\"student\"\u001b[0m\u001b[1;33m\u001b[0m\u001b[1;33m\u001b[0m\u001b[0m\n\u001b[0m\u001b[0;32m     10\u001b[0m                        )\n\u001b[0;32m     11\u001b[0m \u001b[1;33m\u001b[0m\u001b[0m\n",
      "\u001b[1;32m~\\Anaconda3\\lib\\site-packages\\psycopg2\\__init__.py\u001b[0m in \u001b[0;36mconnect\u001b[1;34m(dsn, connection_factory, cursor_factory, **kwargs)\u001b[0m\n\u001b[0;32m    124\u001b[0m \u001b[1;33m\u001b[0m\u001b[0m\n\u001b[0;32m    125\u001b[0m     \u001b[0mdsn\u001b[0m \u001b[1;33m=\u001b[0m \u001b[0m_ext\u001b[0m\u001b[1;33m.\u001b[0m\u001b[0mmake_dsn\u001b[0m\u001b[1;33m(\u001b[0m\u001b[0mdsn\u001b[0m\u001b[1;33m,\u001b[0m \u001b[1;33m**\u001b[0m\u001b[0mkwargs\u001b[0m\u001b[1;33m)\u001b[0m\u001b[1;33m\u001b[0m\u001b[1;33m\u001b[0m\u001b[0m\n\u001b[1;32m--> 126\u001b[1;33m     \u001b[0mconn\u001b[0m \u001b[1;33m=\u001b[0m \u001b[0m_connect\u001b[0m\u001b[1;33m(\u001b[0m\u001b[0mdsn\u001b[0m\u001b[1;33m,\u001b[0m \u001b[0mconnection_factory\u001b[0m\u001b[1;33m=\u001b[0m\u001b[0mconnection_factory\u001b[0m\u001b[1;33m,\u001b[0m \u001b[1;33m**\u001b[0m\u001b[0mkwasync\u001b[0m\u001b[1;33m)\u001b[0m\u001b[1;33m\u001b[0m\u001b[1;33m\u001b[0m\u001b[0m\n\u001b[0m\u001b[0;32m    127\u001b[0m     \u001b[1;32mif\u001b[0m \u001b[0mcursor_factory\u001b[0m \u001b[1;32mis\u001b[0m \u001b[1;32mnot\u001b[0m \u001b[1;32mNone\u001b[0m\u001b[1;33m:\u001b[0m\u001b[1;33m\u001b[0m\u001b[1;33m\u001b[0m\u001b[0m\n\u001b[0;32m    128\u001b[0m         \u001b[0mconn\u001b[0m\u001b[1;33m.\u001b[0m\u001b[0mcursor_factory\u001b[0m \u001b[1;33m=\u001b[0m \u001b[0mcursor_factory\u001b[0m\u001b[1;33m\u001b[0m\u001b[1;33m\u001b[0m\u001b[0m\n",
      "\u001b[1;31mOperationalError\u001b[0m: could not translate host name \"sanjose\" to address: Unknown host\n"
     ]
    }
   ],
   "source": [
    "'''conn = psycopg2.connect(host=\"localhost\",\n",
    "                        port=\"5433\",\n",
    "                        database=\"climate\",\n",
    "                        user=\"postgres\",\n",
    "                        password=\"Lululemon=7890\")'''\n",
    "\n",
    "conn = psycopg2.connect(host=\"sanjose\",\n",
    "                        database=\"atlas\",\n",
    "                        user=\"student\"\n",
    "                       )\n",
    " \n",
    "def connect():\n",
    "    '''\n",
    "    Connect to the PostgreSQL database server\n",
    "    '''\n",
    "    #conn = None\n",
    "    try:\n",
    "        # read connection parameters\n",
    "        #params = config()\n",
    " \n",
    "        # connect to the PostgreSQL server\n",
    "        print('Connecting to the PostgreSQL database...')\n",
    "        #conn = psycopg2.connect(**params)\n",
    "      \n",
    "        # create a cursor\n",
    "        cur = conn.cursor()\n",
    "        \n",
    "   # execute a statement\n",
    "        print('PostgreSQL database version:')\n",
    "        cur.execute('SELECT version()')\n",
    " \n",
    "        # display the PostgreSQL database server version\n",
    "        db_version = cur.fetchone()\n",
    "        print(db_version)\n",
    "       \n",
    "       # close the communication with the PostgreSQL\n",
    "        cur.close()\n",
    "    except (Exception, psycopg2.DatabaseError) as error:\n",
    "        print(error)\n",
    "    finally:\n",
    "        if conn is not None:\n",
    "            conn.close()\n",
    "            print('Database connection closed.')\n",
    " \n",
    " \n",
    "if __name__ == '__main__':\n",
    "    connect()"
   ]
  },
  {
   "cell_type": "code",
   "execution_count": null,
   "metadata": {},
   "outputs": [],
   "source": [
    "import psycopg2\n",
    "\n",
    "def create_tables():\n",
    "    '''\n",
    "    create tables in the PostgreSQL database\n",
    "    '''\n",
    "    commands = (\n",
    "        \"\"\" \n",
    "        CREATE TABLE IF NOT EXISTS weather (\n",
    "                    record_id SERIAL PRIMARY KEY,\n",
    "                    region TEXT NOT NULL,\n",
    "                    latitude NUMERIC(6,4) NOT NULL,\n",
    "                    longitude NUMERIC(6,4) NOT NULL,\n",
    "                    date DATE,\n",
    "                    precipitation NUMERIC(5,2),\n",
    "                    max_temp NUMERIC(4,2),\n",
    "                    min_temp NUMERIC(4,2),\n",
    "                    wind NUMERIC(4,2)\n",
    "                );\n",
    "        \"\"\"\n",
    "        )\n",
    "    conn = None\n",
    "    try:\n",
    "        # read the connection parameters\n",
    "        params = config()\n",
    "        # connect to the PostgreSQL server\n",
    "        conn = psycopg2.connect(**params)\n",
    "        cur = conn.cursor()\n",
    "        # create table one by one\n",
    "        for command in commands:\n",
    "            cur.execute(command)\n",
    "        # close communication with the PostgreSQL database server\n",
    "        cur.close()\n",
    "        # commit the changes\n",
    "        conn.commit()\n",
    "    except (Exception, psycopg2.DatabaseError) as error:\n",
    "        print(error)\n",
    "    finally:\n",
    "        if conn is not None:\n",
    "            conn.close()\n",
    " \n",
    " \n",
    "if __name__ == '__main__':\n",
    "    create_tables()"
   ]
  },
  {
   "cell_type": "markdown",
   "metadata": {
    "slideshow": {
     "slide_type": "slide"
    }
   },
   "source": [
    "## Part 1: Database Creation"
   ]
  },
  {
   "cell_type": "markdown",
   "metadata": {
    "slideshow": {
     "slide_type": "fragment"
    }
   },
   "source": [
    "Before running, make sure the file path below points to where all your folders live"
   ]
  },
  {
   "cell_type": "code",
   "execution_count": 15,
   "metadata": {
    "slideshow": {
     "slide_type": "fragment"
    }
   },
   "outputs": [],
   "source": [
    "directory = 'C:/Users/mohdh/Downloads/Climate Change Database Visual/dir/'  # Dir where all climate change folders live\n",
    "#db = 'C:/sqlite/psql_schema_test_1.db'  # Target location for created database"
   ]
  },
  {
   "cell_type": "markdown",
   "metadata": {
    "slideshow": {
     "slide_type": "slide"
    }
   },
   "source": [
    "### Define Create Table function"
   ]
  },
  {
   "cell_type": "code",
   "execution_count": 16,
   "metadata": {
    "slideshow": {
     "slide_type": "subslide"
    }
   },
   "outputs": [],
   "source": [
    "'''\n",
    "arg should ideally be a config() file.\n",
    "'''\n",
    "def create_connection():\n",
    "    \"\"\" create a database connection to the SQLite database\n",
    "        specified by db_file\n",
    "    :param db_file: database file\n",
    "    :return: Connection object or None\n",
    "    \"\"\"\n",
    "    import psycopg2\n",
    "    conn = None\n",
    "    try:\n",
    "        conn = psycopg2.connect(host=\"localhost\",\n",
    "                                port=\"5433\",\n",
    "                                database=\"climate\",\n",
    "                                user=\"postgres\",\n",
    "                                password=\"Lululemon=7890\")\n",
    "        return conn\n",
    "    except:\n",
    "        logging.warning('unable to connect to database')\n",
    "        exit(1)\n",
    " \n",
    "    return conn\n"
   ]
  },
  {
   "cell_type": "code",
   "execution_count": 17,
   "metadata": {
    "slideshow": {
     "slide_type": "subslide"
    }
   },
   "outputs": [],
   "source": [
    "def create_table(conn, create_table_sql):\n",
    "    \"\"\" create a table from the create_table_sql statement\n",
    "    :param conn: Connection object\n",
    "    :param create_table_sql: a CREATE TABLE statement\n",
    "    :return:\n",
    "    \"\"\"\n",
    "    try:\n",
    "        c = conn.cursor()\n",
    "        c.execute(create_table_sql)\n",
    "    except:\n",
    "        print('Table creation failed.')\n"
   ]
  },
  {
   "cell_type": "code",
   "execution_count": 33,
   "metadata": {
    "slideshow": {
     "slide_type": "subslide"
    }
   },
   "outputs": [
    {
     "name": "stdout",
     "output_type": "stream",
     "text": [
      "Table created.\n",
      "Database committed.\n",
      "Database connection closed.\n"
     ]
    }
   ],
   "source": [
    "def main():\n",
    "    \n",
    "    sql_create_weather_table = \"\"\" CREATE TABLE IF NOT EXISTS weather (\n",
    "                                        record_id SERIAL PRIMARY KEY,\n",
    "                                        region VARCHAR(64),\n",
    "                                        latitude NUMERIC,\n",
    "                                        longitude NUMERIC,\n",
    "                                        date DATE,\n",
    "                                        precipitation NUMERIC,\n",
    "                                        max_temp NUMERIC,\n",
    "                                        min_temp NUMERIC,\n",
    "                                        wind NUMERIC\n",
    "                                    );\n",
    "                                \"\"\"\n",
    " \n",
    "    # create a database connection\n",
    "    conn = create_connection()\n",
    " \n",
    "    # create tables\n",
    "    if conn is not None:\n",
    "        # create weather table\n",
    "        create_table(conn, sql_create_weather_table)\n",
    "        print('Table created.')\n",
    "        conn.commit()\n",
    "        print('Database committed.')\n",
    "        conn.close()\n",
    "        print('Database connection closed.')\n",
    "    else:\n",
    "        print(\"Error! cannot create the database connection.\")\n",
    " \n",
    " \n",
    "if __name__ == '__main__':\n",
    "    main()"
   ]
  },
  {
   "cell_type": "markdown",
   "metadata": {
    "slideshow": {
     "slide_type": "slide"
    }
   },
   "source": [
    "### Define date extraction functions"
   ]
  },
  {
   "cell_type": "code",
   "execution_count": 19,
   "metadata": {
    "slideshow": {
     "slide_type": "fragment"
    }
   },
   "outputs": [],
   "source": [
    "def extract_date(year, month, firstday = '01'):\n",
    "    date = None\n",
    "    try:\n",
    "        dlim = '-'\n",
    "        if len(month) < 2:\n",
    "            month = '0' + month\n",
    "        date_list = [year,month,firstday]\n",
    "        date = (dlim.join(date_list),)\n",
    "        \n",
    "        return date\n",
    "    except:\n",
    "        print(\"Enter a valid year / month format!\")\n",
    "        \n",
    "    return date\n",
    "\n",
    "def replace_date(line, new_date):\n",
    "    new_line = None\n",
    "    try:\n",
    "        new_line = new_date + tuple([float(l) for l in line[2:]])\n",
    "        return new_line\n",
    "    except:\n",
    "        print(\"Check that a valid record and date format is passed in.\")\n",
    "    return new_line"
   ]
  },
  {
   "cell_type": "markdown",
   "metadata": {
    "slideshow": {
     "slide_type": "slide"
    }
   },
   "source": [
    "### Define INSERT statements"
   ]
  },
  {
   "cell_type": "code",
   "execution_count": 20,
   "metadata": {
    "slideshow": {
     "slide_type": "subslide"
    }
   },
   "outputs": [],
   "source": [
    "def insert_data(chunk):\n",
    "    #try:\n",
    "    # create a database connection\n",
    "    conn = create_connection()\n",
    "    cur = conn.cursor()\n",
    "    with conn:\n",
    "        args_str = ','.join(cur.mogrify(\"(%s,%s,%s,%s,%s,%s,%s,%s)\", x).decode(\"utf-8\") for x in tuple(chunk))\n",
    "\n",
    "        cur.execute(\"INSERT INTO weather (region,latitude,longitude,date,precipitation,max_temp,min_temp,wind) VALUES \" + args_str)\n",
    "        #cur.executemany(query, chunk)\n",
    "    conn.commit()\n",
    "    conn.close()\n",
    "    #except:\n",
    "    #    print(\"Data insertion failed.\")"
   ]
  },
  {
   "cell_type": "markdown",
   "metadata": {
    "slideshow": {
     "slide_type": "slide"
    }
   },
   "source": [
    "### Define Main functions"
   ]
  },
  {
   "cell_type": "code",
   "execution_count": 21,
   "metadata": {
    "slideshow": {
     "slide_type": "subslide"
    }
   },
   "outputs": [],
   "source": [
    "def name_split(filename):\n",
    "    try:\n",
    "        if len(filename) > 1:\n",
    "            lat_long = filename.split('_')\n",
    "            return float(lat_long[1]), float(lat_long[2])\n",
    "    except:\n",
    "        print(\"Check filename is correct!\")\n",
    "        \n",
    "def combine_tuple(tup1, tup2):\n",
    "    comb = None\n",
    "    try:\n",
    "        comb = tup1 + tup2\n",
    "        return comb\n",
    "    except:\n",
    "        print(\"Check tuples passed in are correct!\")\n",
    "        \n",
    "def row_split(cont):\n",
    "    measurements = None\n",
    "    try:\n",
    "        rows = cont.split('\\n')\n",
    "        rows = rows[:-1]\n",
    "        measurements = [tuple(x.split()) for x in rows]\n",
    "        return measurements\n",
    "    except:\n",
    "        print(\"Check that file contents are correct!\")\n"
   ]
  },
  {
   "cell_type": "code",
   "execution_count": 22,
   "metadata": {
    "slideshow": {
     "slide_type": "subslide"
    }
   },
   "outputs": [],
   "source": [
    "def process_file(filename, region, folder_dir):\n",
    "    data_chunk = None\n",
    "    try:\n",
    "        if filename.startswith('data'):\n",
    "\n",
    "            lat_long = name_split(filename)\n",
    "            region_co = combine_tuple(region, lat_long)\n",
    "\n",
    "            with open(folder_dir + '//' + filename, 'r') as f:\n",
    "                cont = f.read()\n",
    "                \n",
    "            measurements = row_split(cont)\n",
    "\n",
    "            data_chunk = [combine_tuple(region_co, replace_date(x, extract_date(x[0], x[1]))) for x in measurements]\n",
    "            \n",
    "            return data_chunk\n",
    "        else:\n",
    "            return data_chunk\n",
    "    except:\n",
    "        print(\"Failed to process data for insert.\")"
   ]
  },
  {
   "cell_type": "code",
   "execution_count": 36,
   "metadata": {
    "slideshow": {
     "slide_type": "subslide"
    }
   },
   "outputs": [],
   "source": [
    "def main(directory):\n",
    "    import time\n",
    "    start_time = time.time()\n",
    "    counter = 0\n",
    "    print('Reading in files from %s' % directory)\n",
    "    for folder in os.listdir(directory):\n",
    "        print(str(folder) + \" folder in progress.\")\n",
    "        try:\n",
    "            \n",
    "            # Assumes that regional folders are formatted in short-form code\n",
    "            \n",
    "            if len(folder) < 7:\n",
    "                folder_dir = str(directory) + str(folder)\n",
    "                region = (str(folder),)\n",
    "                \n",
    "                for filename in os.listdir(folder_dir):\n",
    "                    insert_data(process_file(filename, region, folder_dir))\n",
    "                    counter += 1\n",
    "\n",
    "                    if (counter % 1000) == 0:\n",
    "                        print(\"Still working...\")           \n",
    "                        continue\n",
    "                    else:\n",
    "                        continue     \n",
    "            else:\n",
    "                continue\n",
    "        except:\n",
    "            print(\"You broke the Internet.\")\n",
    "            \n",
    "        print(str(folder) + \" folder done.\")\n",
    "        \n",
    "    end_time = time.time()\n",
    "    total_time = end_time - start_time\n",
    "        \n",
    "    print(\"Congratulations, Mr. Stark. All data successfully extracted from all folders.\")\n",
    "    print(\"Time elapsed: %.2f minutes\" % (total_time/60))\n"
   ]
  },
  {
   "cell_type": "markdown",
   "metadata": {},
   "source": [
    "### Test"
   ]
  },
  {
   "cell_type": "code",
   "execution_count": 23,
   "metadata": {},
   "outputs": [],
   "source": [
    "test_file = directory + 'ark/data_31.1875_-92.6875'"
   ]
  },
  {
   "cell_type": "code",
   "execution_count": 27,
   "metadata": {},
   "outputs": [],
   "source": [
    "def testing(directory):\n",
    "    import time\n",
    "    start_time = time.time()\n",
    "    counter = 0\n",
    "    region = (directory.split('/')[-2],)\n",
    "    filename = directory.split('/')[-1]\n",
    "    folder_dir = directory.rsplit('/',1)[0]\n",
    "    \n",
    "    insert_data(process_file(filename,region,folder_dir))\n",
    "        \n",
    "    end_time = time.time()\n",
    "    total_time = end_time - start_time\n",
    "\n",
    "    print(\"Congratulations, Mr. Stark. All data successfully extracted from all folders.\")\n",
    "    print(\"Time elapsed: %.2f minutes\" % (total_time/60))"
   ]
  },
  {
   "cell_type": "markdown",
   "metadata": {
    "slideshow": {
     "slide_type": "skip"
    }
   },
   "source": [
    "### Run Main function"
   ]
  },
  {
   "cell_type": "code",
   "execution_count": 37,
   "metadata": {
    "scrolled": true
   },
   "outputs": [
    {
     "name": "stdout",
     "output_type": "stream",
     "text": [
      "Reading in files from C:/Users/mohdh/Downloads/Climate Change Database Visual/dir/\n",
      "ark folder in progress.\n",
      "Still working...\n",
      "Still working...\n",
      "Still working...\n",
      "ark folder done.\n",
      "cali folder in progress.\n",
      "Still working...\n",
      "Still working...\n",
      "Still working...\n",
      "cali folder done.\n",
      "color folder in progress.\n",
      "Still working...\n",
      "Still working...\n",
      "Still working...\n",
      "Still working...\n",
      "Still working...\n",
      "color folder done.\n",
      "crb folder in progress.\n",
      "Still working...\n",
      "Still working...\n",
      "Still working...\n",
      "Still working...\n",
      "Still working...\n",
      "crb folder done.\n",
      "east folder in progress.\n",
      "Still working...\n",
      "Still working...\n",
      "Still working...\n",
      "Still working...\n",
      "Still working...\n",
      "Still working...\n",
      "Still working...\n",
      "Still working...\n",
      "east folder done.\n",
      "glakes folder in progress.\n",
      "Still working...\n",
      "Still working...\n",
      "Still working...\n",
      "Still working...\n",
      "glakes folder done.\n",
      "grb folder in progress.\n",
      "Still working...\n",
      "Still working...\n",
      "grb folder done.\n",
      "gulf folder in progress.\n",
      "Still working...\n",
      "Still working...\n",
      "Still working...\n",
      "gulf folder done.\n",
      "low folder in progress.\n",
      "Still working...\n",
      "Still working...\n",
      "Still working...\n",
      "low folder done.\n",
      "mex folder in progress.\n",
      "Still working...\n",
      "Still working...\n",
      "Still working...\n",
      "Still working...\n",
      "Still working...\n",
      "mex folder done.\n",
      "mo folder in progress.\n",
      "Still working...\n",
      "Still working...\n",
      "Still working...\n",
      "Still working...\n",
      "Still working...\n",
      "Still working...\n",
      "Still working...\n",
      "Still working...\n",
      "Still working...\n",
      "mo folder done.\n",
      "ohio folder in progress.\n",
      "Still working...\n",
      "Still working...\n",
      "Still working...\n",
      "Still working...\n",
      "ohio folder done.\n",
      "rio folder in progress.\n",
      "Still working...\n",
      "Still working...\n",
      "rio folder done.\n",
      "up folder in progress.\n",
      "Still working...\n",
      "Still working...\n",
      "Still working...\n",
      "Still working...\n",
      "up folder done.\n",
      "Congratulations, Mr. Stark. All data successfully extracted from all folders.\n",
      "Time elapsed: 67.25 minutes\n"
     ]
    }
   ],
   "source": [
    "if __name__ == '__main__':\n",
    "    main(directory)"
   ]
  },
  {
   "cell_type": "code",
   "execution_count": null,
   "metadata": {},
   "outputs": [],
   "source": []
  }
 ],
 "metadata": {
  "kernelspec": {
   "display_name": "Python 3",
   "language": "python",
   "name": "python3"
  },
  "language_info": {
   "codemirror_mode": {
    "name": "ipython",
    "version": 3
   },
   "file_extension": ".py",
   "mimetype": "text/x-python",
   "name": "python",
   "nbconvert_exporter": "python",
   "pygments_lexer": "ipython3",
   "version": "3.7.4"
  }
 },
 "nbformat": 4,
 "nbformat_minor": 4
}
