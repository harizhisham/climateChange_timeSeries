{
 "cells": [
  {
   "cell_type": "markdown",
   "metadata": {},
   "source": [
    "__Note: Run cells in top-down order__"
   ]
  },
  {
   "cell_type": "markdown",
   "metadata": {},
   "source": [
    "Authors: Kevin Chang, Bharati Malik, Hariz Mohd Rani Hisham, Ritumbhra Sagar"
   ]
  },
  {
   "cell_type": "code",
   "execution_count": 1,
   "metadata": {
    "slideshow": {
     "slide_type": "skip"
    }
   },
   "outputs": [],
   "source": [
    "import os\n",
    "import sqlite3\n",
    "from sqlite3 import Error\n",
    "import pandas as pd  # Sorry"
   ]
  },
  {
   "cell_type": "markdown",
   "metadata": {},
   "source": [
    "### Setting up directories"
   ]
  },
  {
   "cell_type": "markdown",
   "metadata": {},
   "source": [
    "Below, enter the directory / file path pointing to your climate change folders:"
   ]
  },
  {
   "cell_type": "code",
   "execution_count": null,
   "metadata": {},
   "outputs": [],
   "source": [
    "directory = 'C:/<YOUR FILEPATH>/'  # Dir where all climate change folders live"
   ]
  },
  {
   "cell_type": "markdown",
   "metadata": {},
   "source": [
    "Then, enter the directory where you want your database to be created:"
   ]
  },
  {
   "cell_type": "code",
   "execution_count": null,
   "metadata": {},
   "outputs": [],
   "source": [
    "db = 'C:/<YOUR FILEPATH>/<YOUR DATABSE NAME>.db'  # Target location for created database"
   ]
  },
  {
   "cell_type": "markdown",
   "metadata": {},
   "source": [
    "## Part 1: Creating the database and single table"
   ]
  },
  {
   "cell_type": "markdown",
   "metadata": {
    "slideshow": {
     "slide_type": "slide"
    }
   },
   "source": [
    "### Define Create Table function"
   ]
  },
  {
   "cell_type": "code",
   "execution_count": 3,
   "metadata": {
    "slideshow": {
     "slide_type": "subslide"
    }
   },
   "outputs": [],
   "source": [
    "def create_connection(db_file):\n",
    "    \"\"\" create a database connection to the SQLite database\n",
    "        specified by db_file\n",
    "    :param db_file: database file\n",
    "    :return: Connection object or None\n",
    "    \"\"\"\n",
    "    conn = None\n",
    "    try:\n",
    "        conn = sqlite3.connect(db_file)\n",
    "        return conn\n",
    "    except Error as e:\n",
    "        print(e)\n",
    " \n",
    "    return conn\n"
   ]
  },
  {
   "cell_type": "code",
   "execution_count": 4,
   "metadata": {
    "slideshow": {
     "slide_type": "subslide"
    }
   },
   "outputs": [],
   "source": [
    "def create_table(conn, create_table_sql):\n",
    "    \"\"\" create a table from the create_table_sql statement\n",
    "    :param conn: Connection object\n",
    "    :param create_table_sql: a CREATE TABLE statement\n",
    "    :return:\n",
    "    \"\"\"\n",
    "    try:\n",
    "        c = conn.cursor()\n",
    "        c.execute(create_table_sql)\n",
    "    except Error as e:\n",
    "        print(e)\n"
   ]
  },
  {
   "cell_type": "code",
   "execution_count": 6,
   "metadata": {
    "slideshow": {
     "slide_type": "subslide"
    }
   },
   "outputs": [],
   "source": [
    "def main():\n",
    "    \n",
    "    sql_create_weather_table = \"\"\" CREATE TABLE IF NOT EXISTS weather (\n",
    "                                        region text NOT NULL,\n",
    "                                        latitude float NOT NULL,\n",
    "                                        longitude float NOT NULL,\n",
    "                                        date text,\n",
    "                                        precipitation float,\n",
    "                                        max_temp float,\n",
    "                                        min_temp float,\n",
    "                                        wind float\n",
    "                                    ); \"\"\"\n",
    " \n",
    "    # create a database connection\n",
    "    conn = create_connection(db)\n",
    " \n",
    "    # create tables\n",
    "    if conn is not None:\n",
    "        # create weather table\n",
    "        create_table(conn, sql_create_weather_table)\n",
    "        conn.close()\n",
    "    else:\n",
    "        print(\"Error! cannot create the database connection.\")\n",
    " \n",
    " \n",
    "if __name__ == '__main__':\n",
    "    main()"
   ]
  },
  {
   "cell_type": "markdown",
   "metadata": {},
   "source": [
    "## Part 2: Extracting data from text files and inserting data into database table"
   ]
  },
  {
   "cell_type": "markdown",
   "metadata": {
    "slideshow": {
     "slide_type": "slide"
    }
   },
   "source": [
    "### Define date extraction functions"
   ]
  },
  {
   "cell_type": "code",
   "execution_count": 7,
   "metadata": {
    "slideshow": {
     "slide_type": "fragment"
    }
   },
   "outputs": [],
   "source": [
    "def extract_date(year, month):\n",
    "    date = None\n",
    "    try:\n",
    "        date = (year + '-' + month,)\n",
    "        return date\n",
    "    except:\n",
    "        print(\"Enter a valid year / month format!\")\n",
    "    return date\n",
    "\n",
    "def replace_date(line, new_date):\n",
    "    new_line = None\n",
    "    try:\n",
    "        new_line = new_date + line[2:]\n",
    "        return new_line\n",
    "    except:\n",
    "        print(\"Check that a valid record and date format is passed in.\")\n",
    "    return new_line"
   ]
  },
  {
   "cell_type": "markdown",
   "metadata": {
    "slideshow": {
     "slide_type": "slide"
    }
   },
   "source": [
    "### Define INSERT statements"
   ]
  },
  {
   "cell_type": "code",
   "execution_count": 8,
   "metadata": {
    "slideshow": {
     "slide_type": "subslide"
    }
   },
   "outputs": [],
   "source": [
    "def insert_data(chunk,database):\n",
    "    try:\n",
    "        # create a database connection\n",
    "        conn = create_connection(database)\n",
    "        cur = conn.cursor()\n",
    "        with conn:\n",
    "            cur.executemany(\"INSERT INTO weather VALUES (?,?,?,?,?,?,?,?)\", chunk)\n",
    "        conn.commit()\n",
    "        conn.close()\n",
    "    except:\n",
    "        print(\"Check that record passed in is formatted correctly!\")"
   ]
  },
  {
   "cell_type": "markdown",
   "metadata": {
    "slideshow": {
     "slide_type": "slide"
    }
   },
   "source": [
    "### Define Data Processing functions"
   ]
  },
  {
   "cell_type": "code",
   "execution_count": 9,
   "metadata": {
    "slideshow": {
     "slide_type": "subslide"
    }
   },
   "outputs": [],
   "source": [
    "def name_split(filename):\n",
    "    try:\n",
    "        if len(filename) > 1:\n",
    "            lat_long = filename.split('_')\n",
    "            return lat_long[1], lat_long[2]\n",
    "    except:\n",
    "        print(\"Check filename is correct!\")\n",
    "        \n",
    "def combine_tuple(tup1, tup2):\n",
    "    comb = None\n",
    "    try:\n",
    "        comb = tup1 + tup2\n",
    "        return comb\n",
    "    except:\n",
    "        print(\"Check tuples passed in are correct!\")\n",
    "        \n",
    "def row_split(cont):\n",
    "    measurements = None\n",
    "    try:\n",
    "        rows = cont.split('\\n')\n",
    "        rows = rows[:-1]\n",
    "        measurements = [tuple(x.split()) for x in rows]\n",
    "        return measurements\n",
    "    except:\n",
    "        print(\"Check that file contents are correct!\")\n"
   ]
  },
  {
   "cell_type": "code",
   "execution_count": 10,
   "metadata": {
    "slideshow": {
     "slide_type": "subslide"
    }
   },
   "outputs": [],
   "source": [
    "def process_file(filename, region, folder_dir):\n",
    "    data_chunk = None\n",
    "    try:\n",
    "        if filename.startswith('data'):\n",
    "\n",
    "            lat_long = name_split(filename)\n",
    "            region_co = combine_tuple(region, lat_long)\n",
    "\n",
    "            with open(folder_dir + '//' + filename, 'r') as f:\n",
    "                cont = f.read()\n",
    "\n",
    "            measurements = row_split(cont)\n",
    "\n",
    "            data_chunk = [combine_tuple(region_co, replace_date(x, extract_date(x[0], x[1]))) for x in measurements]\n",
    "            return data_chunk\n",
    "        else:\n",
    "            return data_chunk\n",
    "    except:\n",
    "        print(\"Data insertion failed.\")"
   ]
  },
  {
   "cell_type": "code",
   "execution_count": 11,
   "metadata": {
    "slideshow": {
     "slide_type": "subslide"
    }
   },
   "outputs": [],
   "source": [
    "def main(directory, database):\n",
    "    counter = 0\n",
    "    for folder in os.listdir(directory):\n",
    "        print(str(folder) + \" folder in progress.\")\n",
    "        try:\n",
    "            \n",
    "            # Assumes that regional folders are formatted in short-form code\n",
    "            \n",
    "            if len(folder) < 7:\n",
    "                folder_dir = str(directory) + str(folder)\n",
    "                region = (str(folder),)\n",
    "                \n",
    "                for filename in os.listdir(folder_dir):\n",
    "                    insert_data(process_file(filename, region, folder_dir), database)\n",
    "                    counter += 1\n",
    "\n",
    "                    if (counter % 1000) == 0:\n",
    "                        print(\"Still working...\")           \n",
    "                        continue\n",
    "                    else:\n",
    "                        continue     \n",
    "            else:\n",
    "                continue\n",
    "        except:\n",
    "            print(\"You broke the Internet.\")\n",
    "            \n",
    "        print(str(folder) + \" folder done.\")\n",
    "        \n",
    "    print(\"Congratulations, Mr. Stark. All data successfully extracted from all folders.\")\n"
   ]
  },
  {
   "cell_type": "markdown",
   "metadata": {
    "slideshow": {
     "slide_type": "skip"
    }
   },
   "source": [
    "### Run Main function"
   ]
  },
  {
   "cell_type": "code",
   "execution_count": null,
   "metadata": {},
   "outputs": [],
   "source": [
    "if __name__ == '__main__':\n",
    "    main(directory, db)"
   ]
  },
  {
   "cell_type": "code",
   "execution_count": null,
   "metadata": {},
   "outputs": [],
   "source": []
  }
 ],
 "metadata": {
  "kernelspec": {
   "display_name": "Python 3",
   "language": "python",
   "name": "python3"
  },
  "language_info": {
   "codemirror_mode": {
    "name": "ipython",
    "version": 3
   },
   "file_extension": ".py",
   "mimetype": "text/x-python",
   "name": "python",
   "nbconvert_exporter": "python",
   "pygments_lexer": "ipython3",
   "version": "3.7.4"
  }
 },
 "nbformat": 4,
 "nbformat_minor": 4
}
